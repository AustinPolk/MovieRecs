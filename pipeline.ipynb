{
 "cells": [
  {
   "cell_type": "code",
   "execution_count": 40,
   "metadata": {},
   "outputs": [],
   "source": [
    "import os\n",
    "\n",
    "dataFiles = []\n",
    "for root, dirs, files in os.walk(\"Data2\"):\n",
    "    for file in files:\n",
    "        path = os.path.join(root, file)\n",
    "        dataFiles.append(path)"
   ]
  },
  {
   "cell_type": "code",
   "execution_count": 106,
   "metadata": {},
   "outputs": [
    {
     "name": "stdout",
     "output_type": "stream",
     "text": [
      "The autoreload extension is already loaded. To reload it, use:\n",
      "  %reload_ext autoreload\n"
     ]
    }
   ],
   "source": [
    "%load_ext autoreload\n",
    "%autoreload 2"
   ]
  },
  {
   "cell_type": "code",
   "execution_count": 172,
   "metadata": {},
   "outputs": [],
   "source": [
    "from keras import activations\n",
    "\n",
    "hyperparameters = {\n",
    "    \"UseAdjectives\": False,\n",
    "    \"MinKeywordOccurrences\": 10,\n",
    "    \"MaxKeywordOccurrences\": 500,\n",
    "    \"EncoderHiddenDimensions\": 128,\n",
    "    \"EncoderLatentDimensions\": 10,\n",
    "    \"EncoderHiddenActivation\": activations.relu,\n",
    "    \"EncoderLatentActivation\": activations.linear,\n",
    "    \"EncoderEpochs\" : 50,\n",
    "    \"SVMKernel\": 'rbf',\n",
    "    \"gamma\": 'auto'\n",
    "}"
   ]
  },
  {
   "cell_type": "code",
   "execution_count": 84,
   "metadata": {},
   "outputs": [],
   "source": [
    "import movie_reviews\n",
    "from gensim import downloader\n",
    "\n",
    "# read from the Data2 folder to get names of movies for training data\n",
    "movies = movie_reviews.get_movies_from_binaries(dataFiles)\n",
    "\n",
    "# get the IMDb Ids of as many of these movies as possible\n",
    "movies_by_id = movie_reviews.unpickle(\"movies_by_id.bin\")\n",
    "if not movies_by_id:\n",
    "    movies_by_id = movie_reviews.get_movie_ids(movies)\n",
    "ids = list(movies_by_id.keys())\n",
    "\n",
    "# get the plots of as many movies as possible, update which Ids have plots\n",
    "plots_by_id = movie_reviews.unpickle(\"plots_by_id.bin\")\n",
    "if not plots_by_id:\n",
    "    plots_by_id = movie_reviews.get_movie_plots(ids)\n",
    "ids = list(plots_by_id.keys())\n",
    "\n",
    "# get the keywords in each plot and convert them into keyword vectors for each movie\n",
    "keywords_by_id = movie_reviews.get_plots_keywords(plots_by_id, adjectives=hyperparameters[\"UseAdjectives\"])\n",
    "keyword_counts = movie_reviews.get_keyword_counts(keywords_by_id)\n",
    "trimmed_keywords = movie_reviews.trim_keyword_list(keyword_counts, min_occurrences=hyperparameters[\"MinKeywordOccurrences\"], max_occurrences=hyperparameters[\"MaxKeywordOccurrences\"])\n",
    "keyword_vectors = movie_reviews.get_movie_keyword_vectors(trimmed_keywords, keywords_by_id)\n",
    "\n",
    "# get the genres for every movie that has an available plot\n",
    "genres_by_id = movie_reviews.unpickle(\"genres_by_id.bin\")\n",
    "if not genres_by_id:\n",
    "    genres_by_id = movie_reviews.get_movies_genres(ids)\n",
    "ids = list(genres_by_id.keys())\n",
    "\n",
    "# get genre vectors as potential features to train encoder with\n",
    "master_genre_list = movie_reviews.get_genres_list(genres_by_id)\n",
    "genre_feature_count = len(master_genre_list)\n",
    "genre_vectors = movie_reviews.get_movies_genre_vectors(master_genre_list, genres_by_id)\n",
    "\n",
    "# load pretrained word2Vec model if not already loaded\n",
    "try:\n",
    "    word2Vec\n",
    "except:\n",
    "    word2Vec = downloader.load(\"word2vec-google-news-300\")\n",
    "\n",
    "keyword_word2vec_vectors = movie_reviews.get_word2vec_movie_vectors(trimmed_keywords, keyword_vectors, word2Vec)\n",
    "genre_word2vec_vectors = movie_reviews.get_word2vec_movie_vectors(master_genre_list, genre_vectors, word2Vec)\n"
   ]
  },
  {
   "cell_type": "code",
   "execution_count": 93,
   "metadata": {},
   "outputs": [
    {
     "name": "stdout",
     "output_type": "stream",
     "text": [
      "Average keywords in plot: 144.0880733944954\n",
      "Total keywords possible: 4886\n"
     ]
    }
   ],
   "source": [
    "# quantify the sparsity of the keyword vectors\n",
    "keyword_vector_sums = {}\n",
    "average_keywords = 0\n",
    "for id, keyword_vector in keyword_vectors.items():\n",
    "    s = sum(keyword_vector)\n",
    "    keyword_vector_sums[id] = s\n",
    "    average_keywords += s\n",
    "average_keywords /= len(keyword_vector_sums)\n",
    "print(f\"Average keywords in plot: {average_keywords}\")\n",
    "print(f\"Total keywords possible: {len(trimmed_keywords)}\")"
   ]
  },
  {
   "cell_type": "code",
   "execution_count": null,
   "metadata": {},
   "outputs": [],
   "source": [
    "import numpy as np\n",
    "from keras import Sequential, layers, losses\n",
    "\n",
    "features_2 = movie_reviews.compress_vectors_dimensions(keyword_word2vec_vectors, hyperparameters[\"EncoderLatentDimensions\"], False)\n",
    "features_3 = movie_reviews.compress_vectors_dimensions(genre_word2vec_vectors, hyperparameters[\"EncoderLatentDimensions\"], False)\n",
    "\n",
    "input_features = []\n",
    "for _, vec in keyword_vectors.items():\n",
    "    input_features.append(vec)\n",
    "input_features = np.array(input_features)\n",
    "\n",
    "input_size = len(trimmed_keywords)\n",
    "encoder_2 = Sequential([\n",
    "        layers.InputLayer((input_size,)),\n",
    "        layers.Dense(hyperparameters[\"EncoderHiddenDimensions\"], activation=hyperparameters[\"EncoderHiddenActivation\"]),\n",
    "        layers.Dense(hyperparameters[\"EncoderLatentDimensions\"], activation=hyperparameters[\"EncoderLatentActivation\"])\n",
    "    ])\n",
    "encoder_3 = Sequential([\n",
    "        layers.InputLayer((input_size,)),\n",
    "        layers.Dense(hyperparameters[\"EncoderHiddenDimensions\"], activation=hyperparameters[\"EncoderHiddenActivation\"]),\n",
    "        layers.Dense(hyperparameters[\"EncoderLatentDimensions\"], activation=hyperparameters[\"EncoderLatentActivation\"])\n",
    "    ])\n",
    "\n",
    "encoder_2.compile(loss=losses.MeanSquaredError(), optimizer='adam')\n",
    "encoder_3.compile(loss=losses.MeanSquaredError(), optimizer='adam')\n",
    "\n",
    "output_features_2 = []\n",
    "for _, vec in features_2.items():\n",
    "    output_features_2.append(vec)\n",
    "output_features_2 = np.array(output_features_2)\n",
    "\n",
    "output_features_3 = []\n",
    "for _, vec in features_3.items():\n",
    "    output_features_3.append(vec)\n",
    "output_features_3 = np.array(output_features_3)\n",
    "\n",
    "encoder_2.fit(x = input_features, y = output_features_2, epochs = hyperparameters[\"EncoderEpochs\"], shuffle=True)\n",
    "encoder_3.fit(x = input_features, y = output_features_3, epochs = hyperparameters[\"EncoderEpochs\"], shuffle=True)\n",
    "\n",
    "possible_encoders = [encoder_2, encoder_3]"
   ]
  },
  {
   "cell_type": "code",
   "execution_count": null,
   "metadata": {},
   "outputs": [],
   "source": [
    "Trevor = movie_reviews.get_user_preferences(\"Trevor.txt\")\n",
    "\n",
    "trevor_ids = list(Trevor.keys())\n",
    "trevor_plots = movie_reviews.get_movie_plots(trevor_ids)\n",
    "\n",
    "trevor_keywords = movie_reviews.get_plots_keywords(trevor_plots, adjectives=hyperparameters[\"UseAdjectives\"])\n",
    "trevor_keyword_vectors = movie_reviews.get_movie_keyword_vectors(trimmed_keywords, trevor_keywords)\n",
    "\n",
    "trevor_features_2 = {}\n",
    "trevor_features_3 = {}\n",
    "for id, vector in trevor_keyword_vectors.items():\n",
    "    m = np.array([vector])\n",
    "\n",
    "    feature_2 = encoder_2(m)\n",
    "    feature_3 = encoder_3(m)\n",
    "    trevor_features_2[id] = np.array(feature_2)\n",
    "    trevor_features_3[id] = np.array(feature_3)\n"
   ]
  },
  {
   "cell_type": "code",
   "execution_count": 173,
   "metadata": {},
   "outputs": [],
   "source": [
    "from sklearn import svm\n",
    "\n",
    "pos_2 = svm.OneClassSVM(kernel=hyperparameters['SVMKernel'], gamma=hyperparameters['gamma'])\n",
    "neg_2 = svm.OneClassSVM(kernel=hyperparameters['SVMKernel'], gamma=hyperparameters['gamma'])\n",
    "pos_3 = svm.OneClassSVM(kernel=hyperparameters['SVMKernel'], gamma=hyperparameters['gamma'])\n",
    "neg_3 = svm.OneClassSVM(kernel=hyperparameters['SVMKernel'], gamma=hyperparameters['gamma'])\n",
    "\n",
    "user_model_2 = movie_reviews.train_user_model(pos_2, neg_2, features_2, Trevor)\n",
    "user_model_3 = movie_reviews.train_user_model(pos_3, neg_3, features_3, Trevor)"
   ]
  },
  {
   "cell_type": "code",
   "execution_count": 175,
   "metadata": {},
   "outputs": [
    {
     "data": {
      "text/plain": [
       "0.009103699053614573"
      ]
     },
     "execution_count": 175,
     "metadata": {},
     "output_type": "execute_result"
    }
   ],
   "source": [
    "user_model_2.neg_weight"
   ]
  },
  {
   "cell_type": "code",
   "execution_count": 101,
   "metadata": {},
   "outputs": [
    {
     "data": {
      "image/png": "[encoded data removed]",
      "text/plain": [
       "<Figure size 640x480 with 1 Axes>"
      ]
     },
     "metadata": {},
     "output_type": "display_data"
    }
   ],
   "source": [
    "import matplotlib.pyplot as plt\n",
    "\n",
    "X = []\n",
    "Y = []\n",
    "for id, vec in possible_encodings[1].items():\n",
    "    X.append(vec[0])\n",
    "    Y.append(vec[1])\n",
    "\n",
    "plt.scatter(X, Y)\n",
    "plt.show()"
   ]
  }
 ],
 "metadata": {
  "kernelspec": {
   "display_name": "Python 3",
   "language": "python",
   "name": "python3"
  },
  "language_info": {
   "codemirror_mode": {
    "name": "ipython",
    "version": 3
   },
   "file_extension": ".py",
   "mimetype": "text/x-python",
   "name": "python",
   "nbconvert_exporter": "python",
   "pygments_lexer": "ipython3",
   "version": "3.10.11"
  }
 },
 "nbformat": 4,
 "nbformat_minor": 2
}
