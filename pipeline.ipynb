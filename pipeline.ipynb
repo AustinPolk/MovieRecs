{
 "cells": [
  {
   "cell_type": "code",
   "execution_count": 1,
   "metadata": {},
   "outputs": [],
   "source": [
    "import os\n",
    "\n",
    "dataFiles = []\n",
    "for root, dirs, files in os.walk(\"Data2\"):\n",
    "    for file in files:\n",
    "        path = os.path.join(root, file)\n",
    "        dataFiles.append(path)"
   ]
  },
  {
   "cell_type": "code",
   "execution_count": 2,
   "metadata": {},
   "outputs": [],
   "source": [
    "%load_ext autoreload\n",
    "%autoreload 2"
   ]
  },
  {
   "cell_type": "code",
   "execution_count": 18,
   "metadata": {},
   "outputs": [],
   "source": [
    "from keras import activations\n",
    "\n",
    "hyperparameters = {\n",
    "    \"UseAdjectives\": False,\n",
    "    \"MinKeywordOccurrences\": 10,\n",
    "    \"MaxKeywordOccurrences\": 500,\n",
    "    \"EncoderHiddenDimensions\": 64,\n",
    "    \"EncoderLatentDimensions\": 2,\n",
    "    \"EncoderHiddenActivation\": activations.relu,\n",
    "    \"EncoderLatentActivation\": activations.relu,\n",
    "    \"DecoderHiddenDimensions\": 64,\n",
    "    \"DecoderHiddenActivation\": activations.relu,\n",
    "    \"DecoderFinalActivation\": activations.sigmoid,\n",
    "    \"EncoderEpochs\" : 75,\n",
    "    \"SVMKernel\": 'rbf',\n",
    "    \"gamma\": 'auto'\n",
    "}"
   ]
  },
  {
   "cell_type": "code",
   "execution_count": 9,
   "metadata": {},
   "outputs": [],
   "source": [
    "import movie_reviews\n",
    "from gensim import downloader\n",
    "\n",
    "# read from the Data2 folder to get names of movies for training data\n",
    "movies = movie_reviews.get_movies_from_binaries(dataFiles)\n",
    "\n",
    "# get the IMDb Ids of as many of these movies as possible\n",
    "movies_by_id = movie_reviews.unpickle(\"movies_by_id.bin\")\n",
    "if not movies_by_id:\n",
    "    movies_by_id = movie_reviews.get_movie_ids(movies)\n",
    "ids = list(movies_by_id.keys())\n",
    "\n",
    "# get the plots of as many movies as possible, update which Ids have plots\n",
    "plots_by_id = movie_reviews.unpickle(\"plots_by_id.bin\")\n",
    "if not plots_by_id:\n",
    "    plots_by_id = movie_reviews.get_movie_plots(ids)\n",
    "ids = list(plots_by_id.keys())\n",
    "\n",
    "# get the keywords in each plot and convert them into keyword vectors for each movie\n",
    "keywords_by_id = movie_reviews.get_plots_keywords(plots_by_id, adjectives=hyperparameters[\"UseAdjectives\"])\n",
    "keyword_counts = movie_reviews.get_keyword_counts(keywords_by_id)\n",
    "trimmed_keywords = movie_reviews.trim_keyword_list(keyword_counts, min_occurrences=hyperparameters[\"MinKeywordOccurrences\"], max_occurrences=hyperparameters[\"MaxKeywordOccurrences\"])\n",
    "keyword_vectors = movie_reviews.get_movie_keyword_vectors(trimmed_keywords, keywords_by_id)\n",
    "\n",
    "# get the genres for every movie that has an available plot\n",
    "# genres_by_id = movie_reviews.unpickle(\"genres_by_id.bin\")\n",
    "# if not genres_by_id:\n",
    "#     genres_by_id = movie_reviews.get_movies_genres(ids)\n",
    "# ids = list(genres_by_id.keys())\n",
    "\n",
    "# # get genre vectors as potential features to train encoder with\n",
    "# master_genre_list = movie_reviews.get_genres_list(genres_by_id)\n",
    "# genre_feature_count = len(master_genre_list)\n",
    "# genre_vectors = movie_reviews.get_movies_genre_vectors(master_genre_list, genres_by_id)\n",
    "\n",
    "# # load pretrained word2Vec model if not already loaded\n",
    "# try:\n",
    "#     word2Vec\n",
    "# except:\n",
    "#     word2Vec = downloader.load(\"word2vec-google-news-300\")\n",
    "\n",
    "# keyword_word2vec_vectors = movie_reviews.get_word2vec_movie_vectors(trimmed_keywords, keyword_vectors, word2Vec)\n",
    "# genre_word2vec_vectors = movie_reviews.get_word2vec_movie_vectors(master_genre_list, genre_vectors, word2Vec)\n"
   ]
  },
  {
   "cell_type": "code",
   "execution_count": 5,
   "metadata": {},
   "outputs": [
    {
     "name": "stdout",
     "output_type": "stream",
     "text": [
      "Average keywords in plot: 144.0880733944954\n",
      "Total keywords possible: 4886\n"
     ]
    }
   ],
   "source": [
    "# quantify the sparsity of the keyword vectors\n",
    "keyword_vector_sums = {}\n",
    "average_keywords = 0\n",
    "for id, keyword_vector in keyword_vectors.items():\n",
    "    s = sum(keyword_vector)\n",
    "    keyword_vector_sums[id] = s\n",
    "    average_keywords += s\n",
    "average_keywords /= len(keyword_vector_sums)\n",
    "print(f\"Average keywords in plot: {average_keywords}\")\n",
    "print(f\"Total keywords possible: {len(trimmed_keywords)}\")"
   ]
  },
  {
   "cell_type": "code",
   "execution_count": 19,
   "metadata": {},
   "outputs": [
    {
     "name": "stdout",
     "output_type": "stream",
     "text": [
      "Epoch 1/75\n",
      "\u001b[1m69/69\u001b[0m \u001b[32m━━━━━━━━━━━━━━━━━━━━\u001b[0m\u001b[37m\u001b[0m \u001b[1m1s\u001b[0m 2ms/step - loss: 0.1558\n",
      "Epoch 2/75\n",
      "\u001b[1m69/69\u001b[0m \u001b[32m━━━━━━━━━━━━━━━━━━━━\u001b[0m\u001b[37m\u001b[0m \u001b[1m0s\u001b[0m 2ms/step - loss: 0.0312\n",
      "Epoch 3/75\n",
      "\u001b[1m69/69\u001b[0m \u001b[32m━━━━━━━━━━━━━━━━━━━━\u001b[0m\u001b[37m\u001b[0m \u001b[1m0s\u001b[0m 2ms/step - loss: 0.0306\n",
      "Epoch 4/75\n",
      "\u001b[1m69/69\u001b[0m \u001b[32m━━━━━━━━━━━━━━━━━━━━\u001b[0m\u001b[37m\u001b[0m \u001b[1m0s\u001b[0m 3ms/step - loss: 0.0293\n",
      "Epoch 5/75\n",
      "\u001b[1m69/69\u001b[0m \u001b[32m━━━━━━━━━━━━━━━━━━━━\u001b[0m\u001b[37m\u001b[0m \u001b[1m0s\u001b[0m 2ms/step - loss: 0.0292\n",
      "Epoch 6/75\n",
      "\u001b[1m69/69\u001b[0m \u001b[32m━━━━━━━━━━━━━━━━━━━━\u001b[0m\u001b[37m\u001b[0m \u001b[1m0s\u001b[0m 2ms/step - loss: 0.0295\n",
      "Epoch 7/75\n",
      "\u001b[1m69/69\u001b[0m \u001b[32m━━━━━━━━━━━━━━━━━━━━\u001b[0m\u001b[37m\u001b[0m \u001b[1m0s\u001b[0m 2ms/step - loss: 0.0301\n",
      "Epoch 8/75\n",
      "\u001b[1m69/69\u001b[0m \u001b[32m━━━━━━━━━━━━━━━━━━━━\u001b[0m\u001b[37m\u001b[0m \u001b[1m0s\u001b[0m 2ms/step - loss: 0.0296\n",
      "Epoch 9/75\n",
      "\u001b[1m69/69\u001b[0m \u001b[32m━━━━━━━━━━━━━━━━━━━━\u001b[0m\u001b[37m\u001b[0m \u001b[1m0s\u001b[0m 2ms/step - loss: 0.0295\n",
      "Epoch 10/75\n",
      "\u001b[1m69/69\u001b[0m \u001b[32m━━━━━━━━━━━━━━━━━━━━\u001b[0m\u001b[37m\u001b[0m \u001b[1m0s\u001b[0m 2ms/step - loss: 0.0289\n",
      "Epoch 11/75\n",
      "\u001b[1m69/69\u001b[0m \u001b[32m━━━━━━━━━━━━━━━━━━━━\u001b[0m\u001b[37m\u001b[0m \u001b[1m0s\u001b[0m 2ms/step - loss: 0.0289\n",
      "Epoch 12/75\n",
      "\u001b[1m69/69\u001b[0m \u001b[32m━━━━━━━━━━━━━━━━━━━━\u001b[0m\u001b[37m\u001b[0m \u001b[1m0s\u001b[0m 2ms/step - loss: 0.0291\n",
      "Epoch 13/75\n",
      "\u001b[1m69/69\u001b[0m \u001b[32m━━━━━━━━━━━━━━━━━━━━\u001b[0m\u001b[37m\u001b[0m \u001b[1m0s\u001b[0m 2ms/step - loss: 0.0294\n",
      "Epoch 14/75\n",
      "\u001b[1m69/69\u001b[0m \u001b[32m━━━━━━━━━━━━━━━━━━━━\u001b[0m\u001b[37m\u001b[0m \u001b[1m0s\u001b[0m 2ms/step - loss: 0.0291\n",
      "Epoch 15/75\n",
      "\u001b[1m69/69\u001b[0m \u001b[32m━━━━━━━━━━━━━━━━━━━━\u001b[0m\u001b[37m\u001b[0m \u001b[1m0s\u001b[0m 2ms/step - loss: 0.0293\n",
      "Epoch 16/75\n",
      "\u001b[1m69/69\u001b[0m \u001b[32m━━━━━━━━━━━━━━━━━━━━\u001b[0m\u001b[37m\u001b[0m \u001b[1m0s\u001b[0m 2ms/step - loss: 0.0291\n",
      "Epoch 17/75\n",
      "\u001b[1m69/69\u001b[0m \u001b[32m━━━━━━━━━━━━━━━━━━━━\u001b[0m\u001b[37m\u001b[0m \u001b[1m0s\u001b[0m 2ms/step - loss: 0.0290\n",
      "Epoch 18/75\n",
      "\u001b[1m69/69\u001b[0m \u001b[32m━━━━━━━━━━━━━━━━━━━━\u001b[0m\u001b[37m\u001b[0m \u001b[1m0s\u001b[0m 2ms/step - loss: 0.0285\n",
      "Epoch 19/75\n",
      "\u001b[1m69/69\u001b[0m \u001b[32m━━━━━━━━━━━━━━━━━━━━\u001b[0m\u001b[37m\u001b[0m \u001b[1m0s\u001b[0m 2ms/step - loss: 0.0290\n",
      "Epoch 20/75\n",
      "\u001b[1m69/69\u001b[0m \u001b[32m━━━━━━━━━━━━━━━━━━━━\u001b[0m\u001b[37m\u001b[0m \u001b[1m0s\u001b[0m 2ms/step - loss: 0.0289\n",
      "Epoch 21/75\n",
      "\u001b[1m69/69\u001b[0m \u001b[32m━━━━━━━━━━━━━━━━━━━━\u001b[0m\u001b[37m\u001b[0m \u001b[1m0s\u001b[0m 2ms/step - loss: 0.0290\n",
      "Epoch 22/75\n",
      "\u001b[1m69/69\u001b[0m \u001b[32m━━━━━━━━━━━━━━━━━━━━\u001b[0m\u001b[37m\u001b[0m \u001b[1m0s\u001b[0m 2ms/step - loss: 0.0288\n",
      "Epoch 23/75\n",
      "\u001b[1m69/69\u001b[0m \u001b[32m━━━━━━━━━━━━━━━━━━━━\u001b[0m\u001b[37m\u001b[0m \u001b[1m0s\u001b[0m 2ms/step - loss: 0.0280\n",
      "Epoch 24/75\n",
      "\u001b[1m69/69\u001b[0m \u001b[32m━━━━━━━━━━━━━━━━━━━━\u001b[0m\u001b[37m\u001b[0m \u001b[1m0s\u001b[0m 2ms/step - loss: 0.0280\n",
      "Epoch 25/75\n",
      "\u001b[1m69/69\u001b[0m \u001b[32m━━━━━━━━━━━━━━━━━━━━\u001b[0m\u001b[37m\u001b[0m \u001b[1m0s\u001b[0m 2ms/step - loss: 0.0291\n",
      "Epoch 26/75\n",
      "\u001b[1m69/69\u001b[0m \u001b[32m━━━━━━━━━━━━━━━━━━━━\u001b[0m\u001b[37m\u001b[0m \u001b[1m0s\u001b[0m 2ms/step - loss: 0.0284\n",
      "Epoch 27/75\n",
      "\u001b[1m69/69\u001b[0m \u001b[32m━━━━━━━━━━━━━━━━━━━━\u001b[0m\u001b[37m\u001b[0m \u001b[1m0s\u001b[0m 2ms/step - loss: 0.0285\n",
      "Epoch 28/75\n",
      "\u001b[1m69/69\u001b[0m \u001b[32m━━━━━━━━━━━━━━━━━━━━\u001b[0m\u001b[37m\u001b[0m \u001b[1m0s\u001b[0m 2ms/step - loss: 0.0283\n",
      "Epoch 29/75\n",
      "\u001b[1m69/69\u001b[0m \u001b[32m━━━━━━━━━━━━━━━━━━━━\u001b[0m\u001b[37m\u001b[0m \u001b[1m0s\u001b[0m 2ms/step - loss: 0.0275\n",
      "Epoch 30/75\n",
      "\u001b[1m69/69\u001b[0m \u001b[32m━━━━━━━━━━━━━━━━━━━━\u001b[0m\u001b[37m\u001b[0m \u001b[1m0s\u001b[0m 2ms/step - loss: 0.0276\n",
      "Epoch 31/75\n",
      "\u001b[1m69/69\u001b[0m \u001b[32m━━━━━━━━━━━━━━━━━━━━\u001b[0m\u001b[37m\u001b[0m \u001b[1m0s\u001b[0m 2ms/step - loss: 0.0271\n",
      "Epoch 32/75\n",
      "\u001b[1m69/69\u001b[0m \u001b[32m━━━━━━━━━━━━━━━━━━━━\u001b[0m\u001b[37m\u001b[0m \u001b[1m0s\u001b[0m 2ms/step - loss: 0.0272\n",
      "Epoch 33/75\n",
      "\u001b[1m69/69\u001b[0m \u001b[32m━━━━━━━━━━━━━━━━━━━━\u001b[0m\u001b[37m\u001b[0m \u001b[1m0s\u001b[0m 2ms/step - loss: 0.0272\n",
      "Epoch 34/75\n",
      "\u001b[1m69/69\u001b[0m \u001b[32m━━━━━━━━━━━━━━━━━━━━\u001b[0m\u001b[37m\u001b[0m \u001b[1m0s\u001b[0m 2ms/step - loss: 0.0265\n",
      "Epoch 35/75\n",
      "\u001b[1m69/69\u001b[0m \u001b[32m━━━━━━━━━━━━━━━━━━━━\u001b[0m\u001b[37m\u001b[0m \u001b[1m0s\u001b[0m 2ms/step - loss: 0.0261\n",
      "Epoch 36/75\n",
      "\u001b[1m69/69\u001b[0m \u001b[32m━━━━━━━━━━━━━━━━━━━━\u001b[0m\u001b[37m\u001b[0m \u001b[1m0s\u001b[0m 2ms/step - loss: 0.0259\n",
      "Epoch 37/75\n",
      "\u001b[1m69/69\u001b[0m \u001b[32m━━━━━━━━━━━━━━━━━━━━\u001b[0m\u001b[37m\u001b[0m \u001b[1m0s\u001b[0m 2ms/step - loss: 0.0265\n",
      "Epoch 38/75\n",
      "\u001b[1m69/69\u001b[0m \u001b[32m━━━━━━━━━━━━━━━━━━━━\u001b[0m\u001b[37m\u001b[0m \u001b[1m0s\u001b[0m 2ms/step - loss: 0.0262\n",
      "Epoch 39/75\n",
      "\u001b[1m69/69\u001b[0m \u001b[32m━━━━━━━━━━━━━━━━━━━━\u001b[0m\u001b[37m\u001b[0m \u001b[1m0s\u001b[0m 2ms/step - loss: 0.0256\n",
      "Epoch 40/75\n",
      "\u001b[1m69/69\u001b[0m \u001b[32m━━━━━━━━━━━━━━━━━━━━\u001b[0m\u001b[37m\u001b[0m \u001b[1m0s\u001b[0m 2ms/step - loss: 0.0263\n",
      "Epoch 41/75\n",
      "\u001b[1m69/69\u001b[0m \u001b[32m━━━━━━━━━━━━━━━━━━━━\u001b[0m\u001b[37m\u001b[0m \u001b[1m0s\u001b[0m 2ms/step - loss: 0.0259\n",
      "Epoch 42/75\n",
      "\u001b[1m69/69\u001b[0m \u001b[32m━━━━━━━━━━━━━━━━━━━━\u001b[0m\u001b[37m\u001b[0m \u001b[1m0s\u001b[0m 2ms/step - loss: 0.0261\n",
      "Epoch 43/75\n",
      "\u001b[1m69/69\u001b[0m \u001b[32m━━━━━━━━━━━━━━━━━━━━\u001b[0m\u001b[37m\u001b[0m \u001b[1m0s\u001b[0m 2ms/step - loss: 0.0269\n",
      "Epoch 44/75\n",
      "\u001b[1m69/69\u001b[0m \u001b[32m━━━━━━━━━━━━━━━━━━━━\u001b[0m\u001b[37m\u001b[0m \u001b[1m0s\u001b[0m 2ms/step - loss: 0.0259\n",
      "Epoch 45/75\n",
      "\u001b[1m69/69\u001b[0m \u001b[32m━━━━━━━━━━━━━━━━━━━━\u001b[0m\u001b[37m\u001b[0m \u001b[1m0s\u001b[0m 2ms/step - loss: 0.0269\n",
      "Epoch 46/75\n",
      "\u001b[1m69/69\u001b[0m \u001b[32m━━━━━━━━━━━━━━━━━━━━\u001b[0m\u001b[37m\u001b[0m \u001b[1m0s\u001b[0m 2ms/step - loss: 0.0262\n",
      "Epoch 47/75\n",
      "\u001b[1m69/69\u001b[0m \u001b[32m━━━━━━━━━━━━━━━━━━━━\u001b[0m\u001b[37m\u001b[0m \u001b[1m0s\u001b[0m 2ms/step - loss: 0.0261\n",
      "Epoch 48/75\n",
      "\u001b[1m69/69\u001b[0m \u001b[32m━━━━━━━━━━━━━━━━━━━━\u001b[0m\u001b[37m\u001b[0m \u001b[1m0s\u001b[0m 2ms/step - loss: 0.0259\n",
      "Epoch 49/75\n",
      "\u001b[1m69/69\u001b[0m \u001b[32m━━━━━━━━━━━━━━━━━━━━\u001b[0m\u001b[37m\u001b[0m \u001b[1m0s\u001b[0m 2ms/step - loss: 0.0256\n",
      "Epoch 50/75\n",
      "\u001b[1m69/69\u001b[0m \u001b[32m━━━━━━━━━━━━━━━━━━━━\u001b[0m\u001b[37m\u001b[0m \u001b[1m0s\u001b[0m 2ms/step - loss: 0.0262\n",
      "Epoch 51/75\n",
      "\u001b[1m69/69\u001b[0m \u001b[32m━━━━━━━━━━━━━━━━━━━━\u001b[0m\u001b[37m\u001b[0m \u001b[1m0s\u001b[0m 2ms/step - loss: 0.0259\n",
      "Epoch 52/75\n",
      "\u001b[1m69/69\u001b[0m \u001b[32m━━━━━━━━━━━━━━━━━━━━\u001b[0m\u001b[37m\u001b[0m \u001b[1m0s\u001b[0m 2ms/step - loss: 0.0265\n",
      "Epoch 53/75\n",
      "\u001b[1m69/69\u001b[0m \u001b[32m━━━━━━━━━━━━━━━━━━━━\u001b[0m\u001b[37m\u001b[0m \u001b[1m0s\u001b[0m 2ms/step - loss: 0.0259\n",
      "Epoch 54/75\n",
      "\u001b[1m69/69\u001b[0m \u001b[32m━━━━━━━━━━━━━━━━━━━━\u001b[0m\u001b[37m\u001b[0m \u001b[1m0s\u001b[0m 2ms/step - loss: 0.0258\n",
      "Epoch 55/75\n",
      "\u001b[1m69/69\u001b[0m \u001b[32m━━━━━━━━━━━━━━━━━━━━\u001b[0m\u001b[37m\u001b[0m \u001b[1m0s\u001b[0m 2ms/step - loss: 0.0260\n",
      "Epoch 56/75\n",
      "\u001b[1m69/69\u001b[0m \u001b[32m━━━━━━━━━━━━━━━━━━━━\u001b[0m\u001b[37m\u001b[0m \u001b[1m0s\u001b[0m 2ms/step - loss: 0.0259\n",
      "Epoch 57/75\n",
      "\u001b[1m69/69\u001b[0m \u001b[32m━━━━━━━━━━━━━━━━━━━━\u001b[0m\u001b[37m\u001b[0m \u001b[1m0s\u001b[0m 2ms/step - loss: 0.0260\n",
      "Epoch 58/75\n",
      "\u001b[1m69/69\u001b[0m \u001b[32m━━━━━━━━━━━━━━━━━━━━\u001b[0m\u001b[37m\u001b[0m \u001b[1m0s\u001b[0m 2ms/step - loss: 0.0266\n",
      "Epoch 59/75\n",
      "\u001b[1m69/69\u001b[0m \u001b[32m━━━━━━━━━━━━━━━━━━━━\u001b[0m\u001b[37m\u001b[0m \u001b[1m0s\u001b[0m 2ms/step - loss: 0.0259\n",
      "Epoch 60/75\n",
      "\u001b[1m69/69\u001b[0m \u001b[32m━━━━━━━━━━━━━━━━━━━━\u001b[0m\u001b[37m\u001b[0m \u001b[1m0s\u001b[0m 2ms/step - loss: 0.0262\n",
      "Epoch 61/75\n",
      "\u001b[1m69/69\u001b[0m \u001b[32m━━━━━━━━━━━━━━━━━━━━\u001b[0m\u001b[37m\u001b[0m \u001b[1m0s\u001b[0m 2ms/step - loss: 0.0255\n",
      "Epoch 62/75\n",
      "\u001b[1m69/69\u001b[0m \u001b[32m━━━━━━━━━━━━━━━━━━━━\u001b[0m\u001b[37m\u001b[0m \u001b[1m0s\u001b[0m 2ms/step - loss: 0.0259\n",
      "Epoch 63/75\n",
      "\u001b[1m69/69\u001b[0m \u001b[32m━━━━━━━━━━━━━━━━━━━━\u001b[0m\u001b[37m\u001b[0m \u001b[1m0s\u001b[0m 2ms/step - loss: 0.0260\n",
      "Epoch 64/75\n",
      "\u001b[1m69/69\u001b[0m \u001b[32m━━━━━━━━━━━━━━━━━━━━\u001b[0m\u001b[37m\u001b[0m \u001b[1m0s\u001b[0m 2ms/step - loss: 0.0261\n",
      "Epoch 65/75\n",
      "\u001b[1m69/69\u001b[0m \u001b[32m━━━━━━━━━━━━━━━━━━━━\u001b[0m\u001b[37m\u001b[0m \u001b[1m0s\u001b[0m 2ms/step - loss: 0.0263\n",
      "Epoch 66/75\n",
      "\u001b[1m69/69\u001b[0m \u001b[32m━━━━━━━━━━━━━━━━━━━━\u001b[0m\u001b[37m\u001b[0m \u001b[1m0s\u001b[0m 2ms/step - loss: 0.0259\n",
      "Epoch 67/75\n",
      "\u001b[1m69/69\u001b[0m \u001b[32m━━━━━━━━━━━━━━━━━━━━\u001b[0m\u001b[37m\u001b[0m \u001b[1m0s\u001b[0m 2ms/step - loss: 0.0263\n",
      "Epoch 68/75\n",
      "\u001b[1m69/69\u001b[0m \u001b[32m━━━━━━━━━━━━━━━━━━━━\u001b[0m\u001b[37m\u001b[0m \u001b[1m0s\u001b[0m 2ms/step - loss: 0.0260\n",
      "Epoch 69/75\n",
      "\u001b[1m69/69\u001b[0m \u001b[32m━━━━━━━━━━━━━━━━━━━━\u001b[0m\u001b[37m\u001b[0m \u001b[1m0s\u001b[0m 2ms/step - loss: 0.0258\n",
      "Epoch 70/75\n",
      "\u001b[1m69/69\u001b[0m \u001b[32m━━━━━━━━━━━━━━━━━━━━\u001b[0m\u001b[37m\u001b[0m \u001b[1m0s\u001b[0m 2ms/step - loss: 0.0259\n",
      "Epoch 71/75\n",
      "\u001b[1m69/69\u001b[0m \u001b[32m━━━━━━━━━━━━━━━━━━━━\u001b[0m\u001b[37m\u001b[0m \u001b[1m0s\u001b[0m 2ms/step - loss: 0.0262\n",
      "Epoch 72/75\n",
      "\u001b[1m69/69\u001b[0m \u001b[32m━━━━━━━━━━━━━━━━━━━━\u001b[0m\u001b[37m\u001b[0m \u001b[1m0s\u001b[0m 2ms/step - loss: 0.0261\n",
      "Epoch 73/75\n",
      "\u001b[1m69/69\u001b[0m \u001b[32m━━━━━━━━━━━━━━━━━━━━\u001b[0m\u001b[37m\u001b[0m \u001b[1m0s\u001b[0m 2ms/step - loss: 0.0259\n",
      "Epoch 74/75\n",
      "\u001b[1m69/69\u001b[0m \u001b[32m━━━━━━━━━━━━━━━━━━━━\u001b[0m\u001b[37m\u001b[0m \u001b[1m0s\u001b[0m 2ms/step - loss: 0.0262\n",
      "Epoch 75/75\n",
      "\u001b[1m69/69\u001b[0m \u001b[32m━━━━━━━━━━━━━━━━━━━━\u001b[0m\u001b[37m\u001b[0m \u001b[1m0s\u001b[0m 2ms/step - loss: 0.0258\n"
     ]
    },
    {
     "data": {
      "text/plain": [
       "<keras.src.callbacks.history.History at 0x1960f927fd0>"
      ]
     },
     "execution_count": 19,
     "metadata": {},
     "output_type": "execute_result"
    }
   ],
   "source": [
    "import numpy as np\n",
    "\n",
    "# get keyword vectors as training features for an autoencoder\n",
    "input_features = []\n",
    "for _, vec in keyword_vectors.items():\n",
    "    input_features.append(vec)\n",
    "input_features = np.array(input_features)\n",
    "\n",
    "# create and train the autoencoder\n",
    "autoencoder = movie_reviews.Autoencoder(len(trimmed_keywords), hyperparameters)\n",
    "autoencoder.fit(x = input_features, y = input_features, epochs = hyperparameters[\"EncoderEpochs\"], shuffle = True)"
   ]
  },
  {
   "cell_type": "code",
   "execution_count": 20,
   "metadata": {},
   "outputs": [],
   "source": [
    "encoded = autoencoder.encoder(input_features).numpy()"
   ]
  },
  {
   "cell_type": "code",
   "execution_count": 21,
   "metadata": {},
   "outputs": [
    {
     "data": {
      "image/png": "[encoded data removed]",
      "text/plain": [
       "<Figure size 640x480 with 1 Axes>"
      ]
     },
     "metadata": {},
     "output_type": "display_data"
    }
   ],
   "source": [
    "import matplotlib.pyplot as plt\n",
    "\n",
    "x = encoded[:, 0]\n",
    "y = encoded[:, 1]\n",
    "\n",
    "plt.scatter(x, y)\n",
    "#plt.xscale('log')\n",
    "#plt.yscale('log')\n",
    "plt.show()"
   ]
  },
  {
   "cell_type": "code",
   "execution_count": null,
   "metadata": {},
   "outputs": [],
   "source": []
  },
  {
   "cell_type": "code",
   "execution_count": null,
   "metadata": {},
   "outputs": [],
   "source": [
    "User = movie_reviews.get_user_preferences(\"Trevor.txt\")\n",
    "\n",
    "user_ids = list(User.keys())\n",
    "user_plots = movie_reviews.get_movie_plots(user_ids)\n",
    "\n",
    "user_keywords = movie_reviews.get_plots_keywords(user_plots, adjectives=hyperparameters[\"UseAdjectives\"])\n",
    "user_keyword_vectors = movie_reviews.get_movie_keyword_vectors(trimmed_keywords, user_keywords)\n"
   ]
  },
  {
   "cell_type": "code",
   "execution_count": 37,
   "metadata": {},
   "outputs": [],
   "source": [
    "user_features = []\n",
    "for _, vec in user_keyword_vectors.items():\n",
    "    user_features.append(vec)\n",
    "user_features = np.array(user_features)\n",
    "\n",
    "user_encoded = autoencoder.encoder(user_features).numpy()\n",
    "user_encoded_by_id = {}\n",
    "for id, encoded in zip(user_ids, user_encoded):\n",
    "    user_encoded_by_id[id] = encoded\n",
    "\n",
    "liked = []\n",
    "disliked = []\n",
    "for id, encoded in user_encoded_by_id.items():\n",
    "    if User[id] == 1:\n",
    "        liked.append(encoded)\n",
    "    elif User[id] == 0:\n",
    "        disliked.append(encoded)\n",
    "liked = np.array(liked)\n",
    "disliked = np.array(disliked)"
   ]
  },
  {
   "cell_type": "code",
   "execution_count": 38,
   "metadata": {},
   "outputs": [
    {
     "data": {
      "image/png": "[encoded data removed]",
      "text/plain": [
       "<Figure size 640x480 with 1 Axes>"
      ]
     },
     "metadata": {},
     "output_type": "display_data"
    }
   ],
   "source": [
    "liked_x = liked[:, 0]\n",
    "liked_y = liked[:, 1]\n",
    "disliked_x = disliked[:, 0]\n",
    "disliked_y = disliked[:, 1]\n",
    "\n",
    "plt.scatter(liked_x, liked_y, color='red')\n",
    "plt.scatter(disliked_x, disliked_y, color='blue')\n",
    "#plt.xscale('log')\n",
    "#plt.yscale('log')\n",
    "plt.show()"
   ]
  },
  {
   "cell_type": "code",
   "execution_count": 173,
   "metadata": {},
   "outputs": [],
   "source": [
    "from sklearn import svm\n",
    "\n",
    "pos_2 = svm.OneClassSVM(kernel=hyperparameters['SVMKernel'], gamma=hyperparameters['gamma'])\n",
    "neg_2 = svm.OneClassSVM(kernel=hyperparameters['SVMKernel'], gamma=hyperparameters['gamma'])\n",
    "pos_3 = svm.OneClassSVM(kernel=hyperparameters['SVMKernel'], gamma=hyperparameters['gamma'])\n",
    "neg_3 = svm.OneClassSVM(kernel=hyperparameters['SVMKernel'], gamma=hyperparameters['gamma'])\n",
    "\n",
    "user_model_2 = movie_reviews.train_user_model(pos_2, neg_2, features_2, User)\n",
    "user_model_3 = movie_reviews.train_user_model(pos_3, neg_3, features_3, User)"
   ]
  }
 ],
 "metadata": {
  "kernelspec": {
   "display_name": "Python 3",
   "language": "python",
   "name": "python3"
  },
  "language_info": {
   "codemirror_mode": {
    "name": "ipython",
    "version": 3
   },
   "file_extension": ".py",
   "mimetype": "text/x-python",
   "name": "python",
   "nbconvert_exporter": "python",
   "pygments_lexer": "ipython3",
   "version": "3.10.11"
  }
 },
 "nbformat": 4,
 "nbformat_minor": 2
}
