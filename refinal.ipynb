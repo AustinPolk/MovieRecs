{
 "cells": [
  {
   "cell_type": "code",
   "execution_count": 41,
   "metadata": {},
   "outputs": [],
   "source": [
    "%load_ext autoreload\n",
    "%autoreload 2"
   ]
  },
  {
   "cell_type": "code",
   "execution_count": 42,
   "metadata": {},
   "outputs": [],
   "source": [
    "from movie_loading import MovieLoader\n",
    "from movie_encoding import MovieEncoder"
   ]
  },
  {
   "cell_type": "code",
   "execution_count": 43,
   "metadata": {},
   "outputs": [],
   "source": [
    "cluster_sizes = {\n",
    "    \"NOUN\": 100,\n",
    "    \"VERB\": 100,\n",
    "    \"ADJ\": 100,\n",
    "    \"ADV\": 100,\n",
    "}"
   ]
  },
  {
   "cell_type": "code",
   "execution_count": 45,
   "metadata": {},
   "outputs": [
    {
     "ename": "AttributeError",
     "evalue": "'MovieEncoder' object has no attribute 'train_clusterings'",
     "output_type": "error",
     "traceback": [
      "\u001b[1;31m---------------------------------------------------------------------------\u001b[0m",
      "\u001b[1;31mAttributeError\u001b[0m                            Traceback (most recent call last)",
      "Cell \u001b[1;32mIn[45], line 4\u001b[0m\n\u001b[0;32m      2\u001b[0m encoding \u001b[38;5;241m=\u001b[39m MovieEncoder()\n\u001b[0;32m      3\u001b[0m keyword_lists \u001b[38;5;241m=\u001b[39m encoding\u001b[38;5;241m.\u001b[39mget_many_keyword_lists(cached_plots)\n\u001b[1;32m----> 4\u001b[0m \u001b[43mencoding\u001b[49m\u001b[38;5;241;43m.\u001b[39;49m\u001b[43mtrain_clusterings\u001b[49m(keyword_lists, cluster_sizes)\n",
      "\u001b[1;31mAttributeError\u001b[0m: 'MovieEncoder' object has no attribute 'train_clusterings'"
     ]
    }
   ],
   "source": [
    "cached_plots = MovieLoader().load_cached_plots()\n",
    "encoding = MovieEncoder()\n",
    "keyword_lists = encoding.get_many_keyword_lists(cached_plots)\n",
    "encoding.train_clusterings(keyword_lists, cluster_sizes)"
   ]
  },
  {
   "cell_type": "code",
   "execution_count": null,
   "metadata": {},
   "outputs": [],
   "source": [
    "encoding.cluster_encode_word(\"hit\", \"VERB\")"
   ]
  }
 ],
 "metadata": {
  "kernelspec": {
   "display_name": "Python 3",
   "language": "python",
   "name": "python3"
  },
  "language_info": {
   "codemirror_mode": {
    "name": "ipython",
    "version": 3
   },
   "file_extension": ".py",
   "mimetype": "text/x-python",
   "name": "python",
   "nbconvert_exporter": "python",
   "pygments_lexer": "ipython3",
   "version": "3.11.3"
  }
 },
 "nbformat": 4,
 "nbformat_minor": 2
}
