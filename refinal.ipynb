{
 "cells": [
  {
   "cell_type": "code",
   "execution_count": 1,
   "metadata": {},
   "outputs": [],
   "source": [
    "%load_ext autoreload\n",
    "%autoreload 2"
   ]
  },
  {
   "cell_type": "code",
   "execution_count": null,
   "metadata": {},
   "outputs": [],
   "source": [
    "from loader import Loader\n",
    "from encoding import WordClusterer\n",
    "\n",
    "cached_plots = Loader().load_cached_plots()\n",
    "\n",
    "cluster_class_sizes = {\"NOUN\": 1000, \"VERB\": 1000, \"ADJ\": 1000, \"ADV\": 500}\n",
    "\n",
    "clusterer = WordClusterer()\n",
    "clusterer.train_clusterings(cached_plots, cluster_class_sizes)"
   ]
  },
  {
   "cell_type": "code",
   "execution_count": 2,
   "metadata": {},
   "outputs": [
    {
     "ename": "NameError",
     "evalue": "name 'clusterer' is not defined",
     "output_type": "error",
     "traceback": [
      "\u001b[1;31m---------------------------------------------------------------------------\u001b[0m",
      "\u001b[1;31mNameError\u001b[0m                                 Traceback (most recent call last)",
      "Cell \u001b[1;32mIn[2], line 4\u001b[0m\n\u001b[0;32m      1\u001b[0m \u001b[38;5;28;01mfrom\u001b[39;00m \u001b[38;5;21;01mencoding\u001b[39;00m \u001b[38;5;28;01mimport\u001b[39;00m MovieEncoder, Verboser\n\u001b[0;32m      3\u001b[0m encoder \u001b[38;5;241m=\u001b[39m MovieEncoder()\n\u001b[1;32m----> 4\u001b[0m encoder\u001b[38;5;241m.\u001b[39mset_clusterer(\u001b[43mclusterer\u001b[49m)\n\u001b[0;32m      6\u001b[0m encoder\u001b[38;5;241m.\u001b[39mdigest(cached_plots, \u001b[38;5;241m7\u001b[39m)\n",
      "\u001b[1;31mNameError\u001b[0m: name 'clusterer' is not defined"
     ]
    }
   ],
   "source": [
    "from encoding import MovieEncoder, Verboser\n",
    "\n",
    "encoder = MovieEncoder()\n",
    "encoder.set_clusterer(clusterer)\n",
    "\n",
    "encoder.digest(cached_plots, 7)"
   ]
  }
 ],
 "metadata": {
  "kernelspec": {
   "display_name": "Python 3",
   "language": "python",
   "name": "python3"
  },
  "language_info": {
   "codemirror_mode": {
    "name": "ipython",
    "version": 3
   },
   "file_extension": ".py",
   "mimetype": "text/x-python",
   "name": "python",
   "nbconvert_exporter": "python",
   "pygments_lexer": "ipython3",
   "version": "3.10.11"
  }
 },
 "nbformat": 4,
 "nbformat_minor": 2
}
