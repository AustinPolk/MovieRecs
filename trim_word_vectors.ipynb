{
 "cells": [
  {
   "cell_type": "code",
   "execution_count": 1,
   "metadata": {},
   "outputs": [],
   "source": [
    "import pickle\n",
    "\n",
    "with open(\"Data\\\\keyword_embeddings_20.bin\", \"rb\") as f:\n",
    "    embeddings = pickle.load(f)    "
   ]
  },
  {
   "cell_type": "code",
   "execution_count": 9,
   "metadata": {},
   "outputs": [],
   "source": [
    "import numpy as np\n",
    "import math\n",
    "\n",
    "def mean(vector):\n",
    "    s = sum(vector)\n",
    "    n = vector.shape[0]\n",
    "    return s / n\n",
    "\n",
    "def hardmax(vector):\n",
    "    sum_total = 0\n",
    "    new = vector.copy()\n",
    "    n = vector.shape[0]\n",
    "\n",
    "    for i in range(n):\n",
    "        sum_total += vector[i]\n",
    "    \n",
    "    new /= sum_total\n",
    "\n",
    "    return new\n",
    "\n",
    "def softmax(vector):\n",
    "    exp_total = 0\n",
    "    new = vector.copy()\n",
    "    n = vector.shape[0]\n",
    "\n",
    "    for i in range(n):\n",
    "        exp = math.exp(vector[i])\n",
    "        exp_total += exp\n",
    "        new[i] = exp\n",
    "    \n",
    "    new /= exp_total\n",
    "\n",
    "    return new\n",
    "\n",
    "def meanadjusted(vector):\n",
    "    return vector - mean(vector)\n"
   ]
  },
  {
   "cell_type": "code",
   "execution_count": 14,
   "metadata": {},
   "outputs": [],
   "source": [
    "kill = embeddings['crime']"
   ]
  },
  {
   "cell_type": "code",
   "execution_count": 16,
   "metadata": {},
   "outputs": [],
   "source": [
    "hard_embeddings = {}\n",
    "\n",
    "for word, embedding in embeddings.items():\n",
    "    hard_embeddings[word] = hardmax(embedding)"
   ]
  },
  {
   "cell_type": "code",
   "execution_count": null,
   "metadata": {},
   "outputs": [],
   "source": [
    "print(embeddings['good'])\n",
    "print(hard_embeddings['good'])"
   ]
  },
  {
   "cell_type": "code",
   "execution_count": 18,
   "metadata": {},
   "outputs": [],
   "source": [
    "with open(\"Data\\\\hard_keyword_embeddings_20.bin\", \"wb+\") as f:\n",
    "    pickle.dump(hard_embeddings, f)"
   ]
  },
  {
   "cell_type": "code",
   "execution_count": 19,
   "metadata": {},
   "outputs": [],
   "source": [
    "def mad(vector):\n",
    "    m = mean(vector)\n",
    "    n = vector.shape[0]\n",
    "    total_deviation = 0\n",
    "\n",
    "    for i in range(n):\n",
    "        deviation = abs(m - vector[i])\n",
    "        total_deviation += deviation\n",
    "\n",
    "    return total_deviation / n"
   ]
  },
  {
   "cell_type": "code",
   "execution_count": null,
   "metadata": {},
   "outputs": [],
   "source": [
    "distinct_embeddings = {}\n",
    "threshold = 0.015\n",
    "\n",
    "for word, embedding in hard_embeddings.items():\n",
    "    m = mad(embedding)\n",
    "    #print(f\"{word}: {m}\")\n",
    "\n",
    "    if m > threshold:\n",
    "        distinct_embeddings[word] = embedding\n",
    "    else:\n",
    "        print(f\"-{word}\")"
   ]
  },
  {
   "cell_type": "code",
   "execution_count": null,
   "metadata": {},
   "outputs": [],
   "source": [
    "print(len(distinct_embeddings))\n",
    "print(len(hard_embeddings))"
   ]
  },
  {
   "cell_type": "code",
   "execution_count": 28,
   "metadata": {},
   "outputs": [],
   "source": [
    "with open(\"Data\\\\dh20_embeddings.bin\", \"wb+\") as f:\n",
    "    pickle.dump(distinct_embeddings, f)"
   ]
  }
 ],
 "metadata": {
  "kernelspec": {
   "display_name": "Python 3",
   "language": "python",
   "name": "python3"
  },
  "language_info": {
   "codemirror_mode": {
    "name": "ipython",
    "version": 3
   },
   "file_extension": ".py",
   "mimetype": "text/x-python",
   "name": "python",
   "nbconvert_exporter": "python",
   "pygments_lexer": "ipython3",
   "version": "3.11.3"
  }
 },
 "nbformat": 4,
 "nbformat_minor": 2
}
