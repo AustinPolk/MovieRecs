{
 "cells": [
  {
   "cell_type": "code",
   "execution_count": 12,
   "metadata": {},
   "outputs": [],
   "source": [
    "import os\n",
    "\n",
    "def get_user_liked_and_disliked_movies(user):\n",
    "    movie_preferences = \"Movie Preferences\"\n",
    "    pfile = os.path.join(movie_preferences, f\"{user}.txt\") \n",
    "\n",
    "    all_movies = {}\n",
    "    liked_movies = {}\n",
    "    disliked_movies = {}\n",
    "\n",
    "    with open(pfile) as p:\n",
    "        lines = p.readlines()\n",
    "        for line in lines:\n",
    "            parts = line.strip().split(\",\")\n",
    "            liked = parts[0][0]\n",
    "            title = parts[0][1:]\n",
    "            if len(parts) > 1:\n",
    "                year = int(parts[1])\n",
    "            else:\n",
    "                year = -1\n",
    "            if liked == \"+\":\n",
    "                liked_movies[title] = year\n",
    "            else:\n",
    "                disliked_movies[title] = year\n",
    "            all_movies[title] = year\n",
    "\n",
    "    return all_movies, liked_movies, disliked_movies\n",
    "        "
   ]
  },
  {
   "cell_type": "code",
   "execution_count": 13,
   "metadata": {},
   "outputs": [],
   "source": [
    "from imdb import IMDb\n",
    "\n",
    "def get_movie_by_title(db, title, release_year):\n",
    "    search_results = db.search_movie(title)\n",
    "    \n",
    "    movieID = None\n",
    "    # get first result\n",
    "    if release_year == -1:\n",
    "        movieID = search_results[0].movieID\n",
    "    # get first result that matches year\n",
    "    else:\n",
    "        for result in search_results:\n",
    "            if result['year'] == release_year:\n",
    "                movieID = result.movieID\n",
    "                break\n",
    "    # get closest match\n",
    "    if not movieID:\n",
    "        closest = sorted(search_results, key=lambda x: abs(x['year'] - release_year))\n",
    "        movieID = closest[0].movieID\n",
    "    \n",
    "    movie = db.get_movie(movieID, info=['synopsis', 'reviews'])\n",
    "\n",
    "    return movie"
   ]
  },
  {
   "cell_type": "code",
   "execution_count": 14,
   "metadata": {},
   "outputs": [],
   "source": [
    "def get_movie_reviews(movie):\n",
    "    reviews_content = \"\"\n",
    "\n",
    "    for review in movie['reviews']:\n",
    "        title = review['title']\n",
    "        content = review['content']\n",
    "        reviews_content += f\"{title} {content} \"\n",
    "    \n",
    "    return reviews_content"
   ]
  },
  {
   "cell_type": "code",
   "execution_count": 15,
   "metadata": {},
   "outputs": [],
   "source": [
    "def get_movies_plots_and_reviews(movies):\n",
    "    inst = IMDb()\n",
    "\n",
    "    plots = {}\n",
    "    reviews = {}\n",
    "\n",
    "    for movie, year in movies.items():\n",
    "        for i in range(10):\n",
    "            try:\n",
    "                m = get_movie_by_title(inst, movie, year)\n",
    "                revs = get_movie_reviews(m)\n",
    "                synopsis = m['synopsis'][0]\n",
    "            except:\n",
    "                continue\n",
    "            break\n",
    "        else:\n",
    "            print(f\"Could not retrieve data for {movie} ({year})\")\n",
    "        plots[movie] = synopsis\n",
    "        reviews[movie] = revs\n",
    "\n",
    "    return plots, reviews"
   ]
  }
 ],
 "metadata": {
  "kernelspec": {
   "display_name": "Python 3",
   "language": "python",
   "name": "python3"
  },
  "language_info": {
   "codemirror_mode": {
    "name": "ipython",
    "version": 3
   },
   "file_extension": ".py",
   "mimetype": "text/x-python",
   "name": "python",
   "nbconvert_exporter": "python",
   "pygments_lexer": "ipython3",
   "version": "3.10.11"
  }
 },
 "nbformat": 4,
 "nbformat_minor": 2
}
