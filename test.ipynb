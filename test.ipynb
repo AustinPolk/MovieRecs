{
 "cells": [
  {
   "cell_type": "code",
   "execution_count": 18,
   "metadata": {},
   "outputs": [
    {
     "name": "stdout",
     "output_type": "stream",
     "text": [
      "The autoreload extension is already loaded. To reload it, use:\n",
      "  %reload_ext autoreload\n"
     ]
    }
   ],
   "source": [
    "%load_ext autoreload\n",
    "%autoreload 2"
   ]
  },
  {
   "cell_type": "code",
   "execution_count": 24,
   "metadata": {},
   "outputs": [
    {
     "name": "stdout",
     "output_type": "stream",
     "text": [
      "||.NULL|.NULL|.NULL|.NULL|.NULL|.NULL|.NULL|.NULL|.NULL|.NULL||\n",
      "||Best movie ever|.NULL|.NULL|.NULL|.NULL|.NULL|.NULL|.NULL|.NULL|.NULL||\n",
      "||Best movie ever|.NULL|.NULL|.NULL|.NULL|['Brittney', 'Shittney', 'Wilpy']|.NULL|.NULL|.NULL|.NULL||\n",
      "||Best movie ever|I can't remember\n",
      "Oh well|1999|.NULL|America-an|['Brittney', 'Shittney', 'Wilpy']|1010|.NULL|.NULL|.NULL||\n",
      "||Best movie ever|I can't remember\n",
      "Oh well|1999|.NULL|America-an|['Brittney', 'Shittney', 'Wilpy']|1010|Tokie:Posie,Tokie2:Posie2|Entnity:Label,Entity:Lable|1:1,2:3||\n",
      "||Best movie ever|I can't remember\n",
      "Oh well|1999|.NULL|America-an|['Brittney', 'Shittney', 'Wilpy']|1010|Tokie:Posie,Tokie2:Posie2|Entnity:Label,Entity:Lable|1:1.0,2:3.0||\n",
      "Best movie ever (1999), starring Brittney, Shittney, and Wilpy\n"
     ]
    }
   ],
   "source": [
    "from movie import Movie, SparseVectorEncoding\n",
    "\n",
    "m = Movie()\n",
    "print(m)\n",
    "m.set(\"Title\", \"Best movie ever\")\n",
    "print(m)\n",
    "m.set(\"Cast\", \"\\\"Brittney, Shittney, Wilpy\\\"\")\n",
    "print(m)\n",
    "m.set(\"Year\", str(1999))\n",
    "m.set(\"Id\", str(1010))\n",
    "m.set(\"Origin\", \"America-an\")\n",
    "m.set(\"Plot\", \"I can't remember\\nOh well\")\n",
    "print(m)\n",
    "m.Tokens.append((\"Tokie\", \"Posie\"))\n",
    "m.Tokens.append((\"Tokie2\", \"Posie2\"))\n",
    "m.Entities.append((\"Entnity\", \"Label\"))\n",
    "m.Entities.append((\"Entity\", \"Lable\"))\n",
    "m.Encoding = SparseVectorEncoding()\n",
    "m.Encoding[1] = 1\n",
    "m.Encoding[2] = 3\n",
    "print(m)\n",
    "\n",
    "\n",
    "mm = Movie(str(m))\n",
    "print(mm)\n",
    "\n",
    "print(mm.describe(False))"
   ]
  }
 ],
 "metadata": {
  "kernelspec": {
   "display_name": "Python 3",
   "language": "python",
   "name": "python3"
  },
  "language_info": {
   "codemirror_mode": {
    "name": "ipython",
    "version": 3
   },
   "file_extension": ".py",
   "mimetype": "text/x-python",
   "name": "python",
   "nbconvert_exporter": "python",
   "pygments_lexer": "ipython3",
   "version": "3.11.3"
  }
 },
 "nbformat": 4,
 "nbformat_minor": 2
}
