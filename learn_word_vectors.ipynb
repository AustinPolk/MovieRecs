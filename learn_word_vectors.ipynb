{
 "cells": [
  {
   "cell_type": "code",
   "execution_count": 17,
   "metadata": {},
   "outputs": [],
   "source": [
    "import pandas as pd\n",
    "\n",
    "top = pd.read_csv(\"Data\\\\imdb_top_1000.csv\")\n",
    "movie_data = top[[\"Series_Title\", \"Released_Year\", \"Genre\", \"IMDB_Rating\", \"Meta_score\"]]"
   ]
  },
  {
   "cell_type": "code",
   "execution_count": null,
   "metadata": {},
   "outputs": [],
   "source": [
    "from imdb import IMDb\n",
    "\n",
    "ia = IMDb()\n",
    "movie_ids = {}\n",
    "\n",
    "for index, row in movie_data.iterrows():\n",
    "    \n",
    "    title = row[\"Series_Title\"]\n",
    "    release_year = int(row[\"Released_Year\"])\n",
    "\n",
    "    print(f\"{title} ({release_year})\")\n",
    "\n",
    "    movieID = None\n",
    "    for i in range(10):\n",
    "        try:\n",
    "            search_results = ia.search_movie(title)\n",
    "            \n",
    "            # try to get the exact movie\n",
    "            for result in search_results:\n",
    "                    if result['year'] == release_year:\n",
    "                        movieID = result.movieID\n",
    "                        break\n",
    "            # get closest match if not found\n",
    "            if not movieID:\n",
    "                closest = sorted(search_results, key=lambda x: abs(x['year'] - release_year))\n",
    "                movieID = closest[0].movieID\n",
    "        except:\n",
    "             continue\n",
    "        break\n",
    "\n",
    "    movie_ids[index] = movieID\n",
    "    "
   ]
  },
  {
   "cell_type": "code",
   "execution_count": 27,
   "metadata": {},
   "outputs": [],
   "source": [
    "def get_movie_reviews(movie):\n",
    "    reviews_content = \"\"\n",
    "\n",
    "    for review in movie['reviews']:\n",
    "        title = review['title']\n",
    "        content = review['content']\n",
    "        reviews_content += f\"{title} {content} \"\n",
    "    \n",
    "    return reviews_content"
   ]
  },
  {
   "cell_type": "code",
   "execution_count": null,
   "metadata": {},
   "outputs": [],
   "source": [
    "movie_plots = {}\n",
    "movie_reviews = {}\n",
    "\n",
    "for index, id in movie_ids.items():\n",
    "\n",
    "    print(id)\n",
    "    if not id:\n",
    "        continue\n",
    "\n",
    "    for i in range(10):\n",
    "        try:\n",
    "            movie = ia.get_movie(id, info=['synopsis', 'reviews'])\n",
    "            reviews = get_movie_reviews(movie)\n",
    "            plot = movie['synopsis'][0]\n",
    "        except:\n",
    "            continue\n",
    "        break\n",
    "    else:\n",
    "        print(f\"Could not retrieve data for {id})\")\n",
    "        continue\n",
    "    \n",
    "    movie_plots[id] = plot\n",
    "    movie_reviews[id] = reviews\n"
   ]
  },
  {
   "cell_type": "code",
   "execution_count": 78,
   "metadata": {},
   "outputs": [],
   "source": [
    "import spacy \n",
    "\n",
    "nlp = spacy.load(\"en_core_web_sm\")\n",
    "\n",
    "open_word_classes = [\"NOUN\", \"VERB\", \"ADV\", \"ADJ\"]\n",
    "\n",
    "keyword_list = set()\n",
    "keywords = {}\n",
    "\n",
    "for id, plot in movie_plots.items():\n",
    "    keywords[id] = set()\n",
    "    \n",
    "    doc = nlp(plot)\n",
    "\n",
    "    for token in doc:\n",
    "        if token.pos_ not in open_word_classes:\n",
    "            continue\n",
    "\n",
    "        word = token.lemma_\n",
    "\n",
    "        keyword_list.add(word)\n",
    "        keywords[id].add(word)\n",
    "\n"
   ]
  },
  {
   "cell_type": "code",
   "execution_count": 79,
   "metadata": {},
   "outputs": [],
   "source": [
    "movie_genres = movie_data[\"Genre\"]\n",
    "\n",
    "all_genres = set()\n",
    "id_genres = {}\n",
    "\n",
    "for index, genres in enumerate(movie_genres):\n",
    "\n",
    "    if index not in movie_ids or movie_ids[index] not in movie_plots:\n",
    "        continue\n",
    "\n",
    "    movie_id = movie_ids[index]\n",
    "    id_genres[movie_id] = []\n",
    "\n",
    "    g = genres.split(\",\")\n",
    "    for genre in g:\n",
    "        gg = genre.strip()\n",
    "        all_genres.add(gg)\n",
    "        id_genres[movie_id].append(gg)\n",
    "\n"
   ]
  },
  {
   "cell_type": "code",
   "execution_count": 80,
   "metadata": {},
   "outputs": [],
   "source": [
    "master_genres = list(all_genres)\n",
    "\n",
    "idx_genres = {}\n",
    "for idx, genre in enumerate(master_genres):\n",
    "    idx_genres[genre] = idx\n",
    "\n",
    "master_keywords = list(keyword_list)\n",
    "\n",
    "idx_keywords = {}\n",
    "for idx, keyword in enumerate(master_keywords):\n",
    "    idx_keywords[keyword] = idx\n"
   ]
  },
  {
   "cell_type": "code",
   "execution_count": 81,
   "metadata": {},
   "outputs": [],
   "source": [
    "import numpy as np\n",
    "\n",
    "k = len(master_genres)\n",
    "g = len(master_keywords)\n",
    "\n",
    "movie_genre_vectors = {}\n",
    "\n",
    "for id, genres in id_genres.items():\n",
    "    vec = np.zeros(k)\n",
    "    for genre in genres:\n",
    "        idx = idx_genres[genre]\n",
    "        vec[idx] = 1\n",
    "    movie_genre_vectors[id] = vec\n",
    "\n",
    "movie_keyword_vectors = {}\n",
    "\n",
    "for id, keywords in keywords.items():\n",
    "    vec = np.zeros(g)\n",
    "    for keyword in keywords:\n",
    "        idx = idx_keywords[keyword]\n",
    "        vec[idx] = 1\n",
    "    movie_keyword_vectors[id] = vec"
   ]
  },
  {
   "cell_type": "code",
   "execution_count": 82,
   "metadata": {},
   "outputs": [],
   "source": [
    "master_ids = list(movie_plots.keys())"
   ]
  },
  {
   "cell_type": "code",
   "execution_count": 83,
   "metadata": {},
   "outputs": [],
   "source": [
    "matrix = np.zeros((k, g))\n",
    "\n",
    "genre_counts = {}\n",
    "\n",
    "for id in master_ids:\n",
    "    kvec = movie_keyword_vectors[id]\n",
    "    gvec = movie_genre_vectors[id]\n",
    "    for idx, g in enumerate(gvec):\n",
    "        if g == 1:\n",
    "            genre = master_genres[idx]\n",
    "            \n",
    "            if genre not in genre_counts:\n",
    "                genre_counts[genre] = 0\n",
    "            genre_counts[genre] += 1\n",
    "\n",
    "            matrix[idx] += kvec\n"
   ]
  },
  {
   "cell_type": "code",
   "execution_count": null,
   "metadata": {},
   "outputs": [],
   "source": [
    "genre_counts"
   ]
  },
  {
   "cell_type": "code",
   "execution_count": 85,
   "metadata": {},
   "outputs": [],
   "source": [
    "e = {}\n",
    "e[\"genre_counts\"] = genre_counts\n",
    "e['matrix'] = matrix\n",
    "e['master_genres'] = master_genres\n",
    "e['master_ids'] = master_ids\n",
    "e['master_keywords'] = master_keywords\n",
    "e['movie_keyword_vectors'] = movie_keyword_vectors\n",
    "e['movie_genre_vectors'] = movie_genre_vectors"
   ]
  },
  {
   "cell_type": "code",
   "execution_count": 91,
   "metadata": {},
   "outputs": [],
   "source": [
    "import pickle\n",
    "\n",
    "with open(\"Data\\\\save.bin\", \"wb+\") as f:\n",
    "    pickle.dump(e, f)"
   ]
  },
  {
   "cell_type": "code",
   "execution_count": 107,
   "metadata": {},
   "outputs": [],
   "source": [
    "with open(\"Data\\\\save.bin\", \"rb\") as f:\n",
    "    e = pickle.load(f)"
   ]
  },
  {
   "cell_type": "code",
   "execution_count": 129,
   "metadata": {},
   "outputs": [
    {
     "data": {
      "text/plain": [
       "array([[0.        , 0.00481541, 0.        , ..., 0.        , 0.        ,\n",
       "        0.        ],\n",
       "       [0.        , 0.00160514, 0.        , ..., 0.        , 0.        ,\n",
       "        0.        ],\n",
       "       [0.        , 0.00160514, 0.        , ..., 0.02380952, 0.        ,\n",
       "        0.        ],\n",
       "       ...,\n",
       "       [0.        , 0.00321027, 0.01020408, ..., 0.        , 0.        ,\n",
       "        0.        ],\n",
       "       [0.        , 0.        , 0.        , ..., 0.        , 0.03333333,\n",
       "        0.        ],\n",
       "       [0.        , 0.00160514, 0.01020408, ..., 0.        , 0.        ,\n",
       "        0.        ]])"
      ]
     },
     "execution_count": 129,
     "metadata": {},
     "output_type": "execute_result"
    }
   ],
   "source": [
    "matrix = e['matrix'].copy()\n",
    "transpose = matrix.T\n",
    "\n",
    "threshold = 15\n",
    "too_few = []\n",
    "\n",
    "for ridx, row in enumerate(transpose):\n",
    "    \n",
    "    occurrences = sum(row)\n",
    "    if occurrences < threshold:\n",
    "        too_few.append(ridx)\n",
    "\n",
    "    for cidx, elem in enumerate(row):\n",
    "        genre = master_genres[cidx]\n",
    "        n = elem / genre_counts[genre]\n",
    "        transpose[ridx, cidx] = n\n",
    "\n",
    "transpose"
   ]
  },
  {
   "cell_type": "code",
   "execution_count": 130,
   "metadata": {},
   "outputs": [
    {
     "data": {
      "text/plain": [
       "5945"
      ]
     },
     "execution_count": 130,
     "metadata": {},
     "output_type": "execute_result"
    }
   ],
   "source": [
    "len(master_keywords) - len(too_few)"
   ]
  },
  {
   "cell_type": "code",
   "execution_count": 131,
   "metadata": {},
   "outputs": [],
   "source": [
    "embeddings = {}\n",
    "\n",
    "for idx, keyword in enumerate(master_keywords):\n",
    "    if idx in too_few:\n",
    "        continue\n",
    "\n",
    "    vec = transpose[idx]\n",
    "    embeddings[keyword] = vec"
   ]
  },
  {
   "cell_type": "code",
   "execution_count": 132,
   "metadata": {},
   "outputs": [],
   "source": [
    "with open(f\"Data\\\\keyword_embeddings_{threshold}.bin\", \"wb+\") as f:\n",
    "    pickle.dump(embeddings, f)"
   ]
  },
  {
   "cell_type": "code",
   "execution_count": null,
   "metadata": {},
   "outputs": [],
   "source": [
    "# TODO: remove vectors that are too middle of the road (have similar numbers for each genre because they are common words, like 'do'), they might skew the results later"
   ]
  }
 ],
 "metadata": {
  "kernelspec": {
   "display_name": "Python 3",
   "language": "python",
   "name": "python3"
  },
  "language_info": {
   "codemirror_mode": {
    "name": "ipython",
    "version": 3
   },
   "file_extension": ".py",
   "mimetype": "text/x-python",
   "name": "python",
   "nbconvert_exporter": "python",
   "pygments_lexer": "ipython3",
   "version": "3.10.11"
  }
 },
 "nbformat": 4,
 "nbformat_minor": 2
}
