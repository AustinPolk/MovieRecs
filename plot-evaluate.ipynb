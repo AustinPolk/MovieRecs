{
 "cells": [
  {
   "cell_type": "code",
   "execution_count": 36,
   "metadata": {},
   "outputs": [],
   "source": [
    "movies = [\"Avatar\",\n",
    "    \"BlinkTwice\",\n",
    "    \"ChildrenOfMen\",\n",
    "    \"CitizenKane\",\n",
    "    \"DjangoUnchained\",\n",
    "    \"GetOut\",\n",
    "    \"Inception\",\n",
    "    \"KnivesOut\",\n",
    "    \"Mandy\",\n",
    "    \"Parasite\",\n",
    "    \"SnowPiercer\",\n",
    "    \"TheGreatestShowman\",\n",
    "    \"TheMartian\",\n",
    "    \"TheMummy\",\n",
    "    \"TheRevenant\",\n",
    "    \"TheRitual\",\n",
    "    \"Lord of the Rings\\\\FellowshipOfTheRing\",\n",
    "    \"Lord of the Rings\\\\ReturnOfTheKing\",\n",
    "    \"Lord of the Rings\\\\TheTwoTowers\",\n",
    "    \"Pirates of the Caribbean\\\\AtWorldsEnd\",\n",
    "    \"Pirates of the Caribbean\\\\CurseOfTheBlackPearl\",\n",
    "    \"Pirates of the Caribbean\\\\DeadMansChest\",\n",
    "    \"Pirates of the Caribbean\\\\DeadMenTellNoTales\",\n",
    "    \"Pirates of the Caribbean\\\\OnStrangerTides\",\n",
    "    \"Star Wars\\\\StarWarsANewHope\",\n",
    "    \"Star Wars\\\\StarWarsEmpireStrikesBack\",\n",
    "    \"Star Wars\\\\StarWarsReturnOfTheJedi\",\n",
    "    \"The Godfather\\\\GodfatherPart1\",\n",
    "    \"The Godfather\\\\GodfatherPart2\",\n",
    "    \"The Godfather\\\\GodfatherPart3\",\n",
    "]\n"
   ]
  },
  {
   "cell_type": "code",
   "execution_count": 37,
   "metadata": {},
   "outputs": [],
   "source": [
    "\n",
    "def get_movie_plot(movie_name: str) -> str:\n",
    "    plotPath = fr\"Wikipedia Plots/{movie_name}.txt\"\n",
    "    plot = \"\"\n",
    "    with open(plotPath) as f:\n",
    "        lines = f.readlines()\n",
    "        for line in lines:\n",
    "            if line.isspace():\n",
    "                continue\n",
    "            plot += line.strip()\n",
    "    return plot "
   ]
  },
  {
   "cell_type": "code",
   "execution_count": 38,
   "metadata": {},
   "outputs": [],
   "source": [
    "import spacy\n",
    "\n",
    "def get_significant_word_counts(words: str, desired_pos: list[str]) -> dict[str, int]:\n",
    "    nlp = spacy.load(\"en_core_web_sm\")\n",
    "    doc = nlp(words)\n",
    "\n",
    "    token_counts = {}\n",
    "\n",
    "    for token in doc:\n",
    "        \n",
    "        if token.pos_ not in desired_pos:\n",
    "            continue\n",
    "\n",
    "        t = token.lemma_\n",
    "        if t not in token_counts:\n",
    "            token_counts[t] = 0\n",
    "        token_counts[t] += 1\n",
    "\n",
    "    return token_counts"
   ]
  },
  {
   "cell_type": "code",
   "execution_count": 39,
   "metadata": {},
   "outputs": [],
   "source": [
    "def get_movie_significant_words_to_file(movie):\n",
    "    plot = get_movie_plot(movie)\n",
    "    token_counts = get_significant_word_counts(plot, [\"NOUN\", \"VERB\"])\n",
    "\n",
    "    wordsPath = f\"Plot Significant Words\\\\{movie}.txt\"\n",
    "\n",
    "    with open(wordsPath, \"w+\") as f:\n",
    "        for token, count in token_counts.items():\n",
    "            #print(token, \",\", count, sep=\"\")\n",
    "            f.write(f\"{token},{count}\\n\")"
   ]
  },
  {
   "cell_type": "code",
   "execution_count": 40,
   "metadata": {},
   "outputs": [],
   "source": [
    "#for movie in movies:\n",
    "#    get_movie_significant_words_to_file(movie)"
   ]
  },
  {
   "cell_type": "code",
   "execution_count": 41,
   "metadata": {},
   "outputs": [],
   "source": [
    "def define_master_word_list():\n",
    "    master_word_list = set()\n",
    "\n",
    "    for movie in movies:\n",
    "        plot = get_movie_plot(movie)\n",
    "        word_counts = get_significant_word_counts(plot, [\"NOUN\", \"VERB\"])\n",
    "        words = word_counts.keys()\n",
    "        master_word_list |= set(words)\n",
    "\n",
    "    print(master_word_list)\n",
    "    master_word_list = list(master_word_list)\n",
    "    \n",
    "    with open(\"master_word_list.txt\", \"w+\") as f:\n",
    "        for word in master_word_list:\n",
    "            f.write(f\"{word}\\n\")"
   ]
  },
  {
   "cell_type": "code",
   "execution_count": 42,
   "metadata": {},
   "outputs": [],
   "source": [
    "def retrieve_master_word_list():\n",
    "    master_word_list = []\n",
    "    with open(\"master_word_list.txt\") as f:\n",
    "        lines = f.readlines()\n",
    "        for line in lines:\n",
    "            word = line.strip()\n",
    "            master_word_list.append(word)\n",
    "    return master_word_list"
   ]
  },
  {
   "cell_type": "code",
   "execution_count": 44,
   "metadata": {},
   "outputs": [],
   "source": [
    "#define_master_word_list()\n",
    "master = retrieve_master_word_list()    # always retrieve the list in the same order, don't redefine it"
   ]
  }
 ],
 "metadata": {
  "kernelspec": {
   "display_name": ".venv",
   "language": "python",
   "name": "python3"
  },
  "language_info": {
   "codemirror_mode": {
    "name": "ipython",
    "version": 3
   },
   "file_extension": ".py",
   "mimetype": "text/x-python",
   "name": "python",
   "nbconvert_exporter": "python",
   "pygments_lexer": "ipython3",
   "version": "3.11.3"
  }
 },
 "nbformat": 4,
 "nbformat_minor": 2
}
